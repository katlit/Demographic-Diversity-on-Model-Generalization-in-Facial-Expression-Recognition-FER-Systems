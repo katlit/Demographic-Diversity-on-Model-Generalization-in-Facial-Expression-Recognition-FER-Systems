{
 "cells": [
  {
   "cell_type": "markdown",
   "id": "3a369184",
   "metadata": {},
   "source": [
    "## JAFFE"
   ]
  },
  {
   "cell_type": "code",
   "execution_count": 11,
   "id": "fabd9ded",
   "metadata": {},
   "outputs": [],
   "source": [
    "import os\n",
    "import pandas as pd\n",
    "\n",
    "# https://github.com/serengil/deepface\n",
    "from deepface import DeepFace\n",
    "\n",
    "\n",
    "from PIL import Image"
   ]
  },
  {
   "cell_type": "code",
   "execution_count": 12,
   "id": "8256b9ee",
   "metadata": {},
   "outputs": [],
   "source": [
    "# swith it to false to run the full version\n",
    "DEMO = True\n",
    "MAX_IMAGIES_TO_ANALYZE = 3"
   ]
  },
  {
   "cell_type": "markdown",
   "id": "a8052d8e",
   "metadata": {},
   "source": [
    "### Annotate JAFFE"
   ]
  },
  {
   "cell_type": "code",
   "execution_count": null,
   "id": "a8eb4bfb",
   "metadata": {},
   "outputs": [
    {
     "name": "stdout",
     "output_type": "stream",
     "text": [
      "Processing KA.AN1.39.tiff\n"
     ]
    },
    {
     "name": "stderr",
     "output_type": "stream",
     "text": [
      "Action: emotion: 100%|██████████| 4/4 [00:01<00:00,  3.30it/s]\n"
     ]
    },
    {
     "name": "stdout",
     "output_type": "stream",
     "text": [
      "Processing KA.AN2.40.tiff\n"
     ]
    },
    {
     "name": "stderr",
     "output_type": "stream",
     "text": [
      "Action: emotion: 100%|██████████| 4/4 [00:01<00:00,  3.84it/s]"
     ]
    },
    {
     "name": "stdout",
     "output_type": "stream",
     "text": [
      "Analysis completed! Results saved to face_analysis_results_jaffe_demo.csv\n"
     ]
    },
    {
     "name": "stderr",
     "output_type": "stream",
     "text": [
      "\n"
     ]
    }
   ],
   "source": [
    "def analyze_faces_in_directory(directory, emotion_folder, expansion=\"\", DEMO=DEMO, MAX_IMAGIES_TO_ANALYZE=MAX_IMAGIES_TO_ANALYZE):\n",
    "    # Create a DataFrame to store the analysis results\n",
    "    results_df = pd.DataFrame(columns=[\"Image\", \"Age\", \"Gender\", \"Race\", \"Emotion\"])\n",
    "    results = []\n",
    "\n",
    "    # Loop through all files in the directory\n",
    "\n",
    "    files = os.listdir(directory)\n",
    "\n",
    "    for demo_i, filename in enumerate(files):\n",
    "        if DEMO and demo_i >= MAX_IMAGIES_TO_ANALYZE:\n",
    "            break\n",
    "        if filename.endswith(\".tiff\"):  # Add more extensions if needed\n",
    "            file_path = os.path.join(directory, filename)\n",
    "            try:\n",
    "                # Analyze the face in the image with enforce_detection=False\n",
    "                print(f\"Processing {filename}\")\n",
    "                analysis = DeepFace.analyze(img_path=file_path, actions=['age', 'gender', 'race', 'emotion'], enforce_detection=False)\n",
    "\n",
    "                # DeepFace returns a list, so access the first dictionary in the list\n",
    "                analysis = analysis[0]\n",
    "                result_dict = {\n",
    "                    \"Image\": f\"{emotion_folder}_-_{filename}\",\n",
    "                    \"Age\": analysis.get('age', 'N/A'),\n",
    "                    \"Gender\": analysis.get('dominant_gender', 'N/A'),\n",
    "                    \"Race\": analysis.get('dominant_race', 'N/A'),\n",
    "                    \"Emotion\": analysis.get('dominant_emotion', 'N/A')\n",
    "                }\n",
    "                \n",
    "                # Append dictionary to results list\n",
    "                results.append(result_dict)\n",
    "\n",
    "                # Print the results for the current image\n",
    "                # print(f\"Processed {filename}: Age: {age}, Gender: {gender}, Race: {race}\")\n",
    "\n",
    "            except Exception as e:\n",
    "                # Handle the error gracefully and continue processing\n",
    "                print(f\"Error processing {filename}: {e}\")\n",
    "                continue\n",
    "\n",
    "    # Save results to CSV for further use\n",
    "    # Convert results list to DataFrame only at the end\n",
    "    if results:  # Check if we have any results\n",
    "        results_df = pd.DataFrame(results)\n",
    "        folder = \"../3_annotation_results/\"\n",
    "        if DEMO:\n",
    "            output_file = f'face_analysis_results_jaffe{emotion_folder}_demo.csv'\n",
    "        else:\n",
    "            output_file = f'face_analysis_results_jaffe{emotion_folder}.csv'\n",
    "        results_df.to_csv(folder+output_file, index=False)\n",
    "        print(f\"Analysis completed! Results saved to {output_file}\")\n",
    "    else:\n",
    "        print(\"No results to save!\")\n",
    "\n",
    "directory_path = '../../3_image_datasets/jaffe/'\n",
    "expansion = \"jaffe\"\n",
    "emotion_folders = ['']\n",
    "for e in emotion_folders:\n",
    "    analyze_faces_in_directory(directory=f\"{directory_path}/{e}\", \n",
    "                               emotion_folder=e,\n",
    "                               expansion=expansion,\n",
    "                               DEMO=DEMO,\n",
    "                               MAX_IMAGIES_TO_ANALYZE=MAX_IMAGIES_TO_ANALYZE)  \n"
   ]
  }
 ],
 "metadata": {
  "kernelspec": {
   "display_name": "Python 3",
   "language": "python",
   "name": "python3"
  },
  "language_info": {
   "codemirror_mode": {
    "name": "ipython",
    "version": 3
   },
   "file_extension": ".py",
   "mimetype": "text/x-python",
   "name": "python",
   "nbconvert_exporter": "python",
   "pygments_lexer": "ipython3",
   "version": "3.12.1"
  }
 },
 "nbformat": 4,
 "nbformat_minor": 5
}
