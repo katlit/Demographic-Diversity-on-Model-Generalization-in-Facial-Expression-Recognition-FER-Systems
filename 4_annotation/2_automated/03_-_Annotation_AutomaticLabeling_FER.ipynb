{
 "cells": [
  {
   "cell_type": "markdown",
   "id": "3a369184",
   "metadata": {},
   "source": [
    "## FER - DeepFace Annotation"
   ]
  },
  {
   "cell_type": "code",
   "execution_count": 4,
   "id": "fabd9ded",
   "metadata": {},
   "outputs": [],
   "source": [
    "import os\n",
    "import pandas as pd\n",
    "\n",
    "# https://github.com/serengil/deepface\n",
    "from deepface import DeepFace\n",
    "\n",
    "\n",
    "from PIL import Image"
   ]
  },
  {
   "cell_type": "code",
   "execution_count": 7,
   "id": "8256b9ee",
   "metadata": {},
   "outputs": [],
   "source": [
    "# swith it to false to run the full version\n",
    "DEMO = True\n",
    "MAX_IMAGIES_TO_ANALYZE = 3"
   ]
  },
  {
   "cell_type": "markdown",
   "id": "a8052d8e",
   "metadata": {},
   "source": [
    "### Annotate FER"
   ]
  },
  {
   "cell_type": "code",
   "execution_count": null,
   "id": "a8eb4bfb",
   "metadata": {},
   "outputs": [
    {
     "name": "stdout",
     "output_type": "stream",
     "text": [
      "Processing PrivateTest_10131363.jpg\n"
     ]
    },
    {
     "name": "stderr",
     "output_type": "stream",
     "text": [
      "Action: age:   0%|          | 0/4 [00:00<?, ?it/s]    "
     ]
    },
    {
     "name": "stderr",
     "output_type": "stream",
     "text": [
      "Action: emotion: 100%|██████████| 4/4 [00:01<00:00,  3.35it/s]\n"
     ]
    },
    {
     "name": "stdout",
     "output_type": "stream",
     "text": [
      "Processing PrivateTest_10304478.jpg\n"
     ]
    },
    {
     "name": "stderr",
     "output_type": "stream",
     "text": [
      "Action: emotion: 100%|██████████| 4/4 [00:01<00:00,  3.94it/s]\n"
     ]
    },
    {
     "name": "stdout",
     "output_type": "stream",
     "text": [
      "Processing PrivateTest_1054527.jpg\n"
     ]
    },
    {
     "name": "stderr",
     "output_type": "stream",
     "text": [
      "Action: emotion: 100%|██████████| 4/4 [00:01<00:00,  3.90it/s]\n"
     ]
    },
    {
     "name": "stdout",
     "output_type": "stream",
     "text": [
      "Processing PrivateTest_10590091.jpg\n"
     ]
    },
    {
     "name": "stderr",
     "output_type": "stream",
     "text": [
      "Action: emotion: 100%|██████████| 4/4 [00:01<00:00,  3.63it/s]\n"
     ]
    },
    {
     "name": "stdout",
     "output_type": "stream",
     "text": [
      "Processing PrivateTest_1109992.jpg\n"
     ]
    },
    {
     "name": "stderr",
     "output_type": "stream",
     "text": [
      "Action: emotion: 100%|██████████| 4/4 [00:01<00:00,  3.96it/s]\n"
     ]
    },
    {
     "name": "stdout",
     "output_type": "stream",
     "text": [
      "Analysis completed! Results saved to face_analysis_results_fer_angry_demo.csv\n",
      "Processing PrivateTest_11895083.jpg\n"
     ]
    },
    {
     "name": "stderr",
     "output_type": "stream",
     "text": [
      "Action: emotion: 100%|██████████| 4/4 [00:01<00:00,  3.71it/s]\n"
     ]
    },
    {
     "name": "stdout",
     "output_type": "stream",
     "text": [
      "Processing PrivateTest_19671520.jpg\n"
     ]
    },
    {
     "name": "stderr",
     "output_type": "stream",
     "text": [
      "Action: emotion: 100%|██████████| 4/4 [00:01<00:00,  3.32it/s]\n"
     ]
    },
    {
     "name": "stdout",
     "output_type": "stream",
     "text": [
      "Processing PrivateTest_21629266.jpg\n"
     ]
    },
    {
     "name": "stderr",
     "output_type": "stream",
     "text": [
      "Action: emotion: 100%|██████████| 4/4 [00:01<00:00,  3.89it/s]\n"
     ]
    },
    {
     "name": "stdout",
     "output_type": "stream",
     "text": [
      "Processing PrivateTest_22382996.jpg\n"
     ]
    },
    {
     "name": "stderr",
     "output_type": "stream",
     "text": [
      "Action: emotion: 100%|██████████| 4/4 [00:01<00:00,  3.44it/s]\n"
     ]
    },
    {
     "name": "stdout",
     "output_type": "stream",
     "text": [
      "Processing PrivateTest_26306320.jpg\n"
     ]
    },
    {
     "name": "stderr",
     "output_type": "stream",
     "text": [
      "Action: emotion: 100%|██████████| 4/4 [00:01<00:00,  3.32it/s]\n"
     ]
    },
    {
     "name": "stdout",
     "output_type": "stream",
     "text": [
      "Analysis completed! Results saved to face_analysis_results_fer_disgust_demo.csv\n",
      "Processing PrivateTest_10153550.jpg\n"
     ]
    },
    {
     "name": "stderr",
     "output_type": "stream",
     "text": [
      "Action: emotion: 100%|██████████| 4/4 [00:01<00:00,  3.81it/s]\n"
     ]
    },
    {
     "name": "stdout",
     "output_type": "stream",
     "text": [
      "Processing PrivateTest_10254684.jpg\n"
     ]
    },
    {
     "name": "stderr",
     "output_type": "stream",
     "text": [
      "Action: emotion: 100%|██████████| 4/4 [00:01<00:00,  3.26it/s]\n"
     ]
    },
    {
     "name": "stdout",
     "output_type": "stream",
     "text": [
      "Processing PrivateTest_10306709.jpg\n"
     ]
    },
    {
     "name": "stderr",
     "output_type": "stream",
     "text": [
      "Action: emotion: 100%|██████████| 4/4 [00:01<00:00,  3.21it/s]\n"
     ]
    },
    {
     "name": "stdout",
     "output_type": "stream",
     "text": [
      "Processing PrivateTest_10555537.jpg\n"
     ]
    },
    {
     "name": "stderr",
     "output_type": "stream",
     "text": [
      "Action: emotion: 100%|██████████| 4/4 [00:01<00:00,  3.13it/s]\n"
     ]
    },
    {
     "name": "stdout",
     "output_type": "stream",
     "text": [
      "Processing PrivateTest_10629254.jpg\n"
     ]
    },
    {
     "name": "stderr",
     "output_type": "stream",
     "text": [
      "Action: emotion: 100%|██████████| 4/4 [00:01<00:00,  3.35it/s]\n"
     ]
    },
    {
     "name": "stdout",
     "output_type": "stream",
     "text": [
      "Analysis completed! Results saved to face_analysis_results_fer_fear_demo.csv\n",
      "Processing PrivateTest_10077120.jpg\n"
     ]
    },
    {
     "name": "stderr",
     "output_type": "stream",
     "text": [
      "Action: emotion: 100%|██████████| 4/4 [00:01<00:00,  3.74it/s]\n"
     ]
    },
    {
     "name": "stdout",
     "output_type": "stream",
     "text": [
      "Processing PrivateTest_10470092.jpg\n"
     ]
    },
    {
     "name": "stderr",
     "output_type": "stream",
     "text": [
      "Action: emotion: 100%|██████████| 4/4 [00:01<00:00,  3.89it/s]\n"
     ]
    },
    {
     "name": "stdout",
     "output_type": "stream",
     "text": [
      "Processing PrivateTest_10513598.jpg\n"
     ]
    },
    {
     "name": "stderr",
     "output_type": "stream",
     "text": [
      "Action: emotion: 100%|██████████| 4/4 [00:01<00:00,  3.48it/s]\n"
     ]
    },
    {
     "name": "stdout",
     "output_type": "stream",
     "text": [
      "Processing PrivateTest_10516065.jpg\n"
     ]
    },
    {
     "name": "stderr",
     "output_type": "stream",
     "text": [
      "Action: emotion: 100%|██████████| 4/4 [00:01<00:00,  3.53it/s]\n"
     ]
    },
    {
     "name": "stdout",
     "output_type": "stream",
     "text": [
      "Processing PrivateTest_10613684.jpg\n"
     ]
    },
    {
     "name": "stderr",
     "output_type": "stream",
     "text": [
      "Action: emotion: 100%|██████████| 4/4 [00:01<00:00,  3.09it/s]\n"
     ]
    },
    {
     "name": "stdout",
     "output_type": "stream",
     "text": [
      "Analysis completed! Results saved to face_analysis_results_fer_happy_demo.csv\n",
      "Processing PrivateTest_10086748.jpg\n"
     ]
    },
    {
     "name": "stderr",
     "output_type": "stream",
     "text": [
      "Action: emotion: 100%|██████████| 4/4 [00:00<00:00,  4.07it/s]\n"
     ]
    },
    {
     "name": "stdout",
     "output_type": "stream",
     "text": [
      "Processing PrivateTest_10767287.jpg\n"
     ]
    },
    {
     "name": "stderr",
     "output_type": "stream",
     "text": [
      "Action: emotion: 100%|██████████| 4/4 [00:01<00:00,  3.73it/s]\n"
     ]
    },
    {
     "name": "stdout",
     "output_type": "stream",
     "text": [
      "Processing PrivateTest_11123843.jpg\n"
     ]
    },
    {
     "name": "stderr",
     "output_type": "stream",
     "text": [
      "Action: emotion: 100%|██████████| 4/4 [00:00<00:00,  4.45it/s]\n"
     ]
    },
    {
     "name": "stdout",
     "output_type": "stream",
     "text": [
      "Processing PrivateTest_11164800.jpg\n"
     ]
    },
    {
     "name": "stderr",
     "output_type": "stream",
     "text": [
      "Action: emotion: 100%|██████████| 4/4 [00:00<00:00,  4.55it/s]\n"
     ]
    },
    {
     "name": "stdout",
     "output_type": "stream",
     "text": [
      "Processing PrivateTest_11239107.jpg\n"
     ]
    },
    {
     "name": "stderr",
     "output_type": "stream",
     "text": [
      "Action: emotion: 100%|██████████| 4/4 [00:00<00:00,  4.70it/s]\n"
     ]
    },
    {
     "name": "stdout",
     "output_type": "stream",
     "text": [
      "Analysis completed! Results saved to face_analysis_results_fer_neutral_demo.csv\n",
      "Processing PrivateTest_10247676.jpg\n"
     ]
    },
    {
     "name": "stderr",
     "output_type": "stream",
     "text": [
      "Action: emotion: 100%|██████████| 4/4 [00:00<00:00,  4.29it/s]\n"
     ]
    },
    {
     "name": "stdout",
     "output_type": "stream",
     "text": [
      "Processing PrivateTest_10455506.jpg\n"
     ]
    },
    {
     "name": "stderr",
     "output_type": "stream",
     "text": [
      "Action: emotion: 100%|██████████| 4/4 [00:01<00:00,  3.48it/s]\n"
     ]
    },
    {
     "name": "stdout",
     "output_type": "stream",
     "text": [
      "Processing PrivateTest_10658656.jpg\n"
     ]
    },
    {
     "name": "stderr",
     "output_type": "stream",
     "text": [
      "Action: emotion: 100%|██████████| 4/4 [00:01<00:00,  3.31it/s]\n"
     ]
    },
    {
     "name": "stdout",
     "output_type": "stream",
     "text": [
      "Processing PrivateTest_10702106.jpg\n"
     ]
    },
    {
     "name": "stderr",
     "output_type": "stream",
     "text": [
      "Action: emotion: 100%|██████████| 4/4 [00:01<00:00,  3.90it/s]\n"
     ]
    },
    {
     "name": "stdout",
     "output_type": "stream",
     "text": [
      "Processing PrivateTest_10814167.jpg\n"
     ]
    },
    {
     "name": "stderr",
     "output_type": "stream",
     "text": [
      "Action: emotion: 100%|██████████| 4/4 [00:01<00:00,  3.60it/s]\n"
     ]
    },
    {
     "name": "stdout",
     "output_type": "stream",
     "text": [
      "Analysis completed! Results saved to face_analysis_results_fer_sad_demo.csv\n",
      "Processing PrivateTest_10072988.jpg\n"
     ]
    },
    {
     "name": "stderr",
     "output_type": "stream",
     "text": [
      "Action: emotion: 100%|██████████| 4/4 [00:01<00:00,  3.64it/s]\n"
     ]
    },
    {
     "name": "stdout",
     "output_type": "stream",
     "text": [
      "Processing PrivateTest_10089743.jpg\n"
     ]
    },
    {
     "name": "stderr",
     "output_type": "stream",
     "text": [
      "Action: emotion: 100%|██████████| 4/4 [00:01<00:00,  2.87it/s]\n"
     ]
    },
    {
     "name": "stdout",
     "output_type": "stream",
     "text": [
      "Processing PrivateTest_104142.jpg\n"
     ]
    },
    {
     "name": "stderr",
     "output_type": "stream",
     "text": [
      "Action: emotion: 100%|██████████| 4/4 [00:01<00:00,  3.42it/s]\n"
     ]
    },
    {
     "name": "stdout",
     "output_type": "stream",
     "text": [
      "Processing PrivateTest_10427382.jpg\n"
     ]
    },
    {
     "name": "stderr",
     "output_type": "stream",
     "text": [
      "Action: emotion: 100%|██████████| 4/4 [00:01<00:00,  3.41it/s]\n"
     ]
    },
    {
     "name": "stdout",
     "output_type": "stream",
     "text": [
      "Processing PrivateTest_10712253.jpg\n"
     ]
    },
    {
     "name": "stderr",
     "output_type": "stream",
     "text": [
      "Action: emotion: 100%|██████████| 4/4 [00:01<00:00,  3.61it/s]"
     ]
    },
    {
     "name": "stdout",
     "output_type": "stream",
     "text": [
      "Analysis completed! Results saved to face_analysis_results_fer_surprise_demo.csv\n"
     ]
    },
    {
     "name": "stderr",
     "output_type": "stream",
     "text": [
      "\n"
     ]
    }
   ],
   "source": [
    "def analyze_faces_in_directory(directory, emotion_folder, expansion=\"\", DEMO=False, MAX_IMAGIES_TO_ANALYZE=MAX_IMAGIES_TO_ANALYZE):\n",
    "    # Create a DataFrame to store the analysis results\n",
    "    results_df = pd.DataFrame(columns=[\"Image\", \"Age\", \"Gender\", \"Race\", \"Emotion\"])\n",
    "    results = []\n",
    "\n",
    "    # Loop through all files in the directory\n",
    "\n",
    "    files = os.listdir(directory)\n",
    "\n",
    "    for demo_i, filename in enumerate(files):\n",
    "        if DEMO and demo_i >= 5:\n",
    "            break\n",
    "        if filename.endswith(\".jpg\") or filename.endswith(\".png\"):  # Add more extensions if needed\n",
    "            file_path = os.path.join(directory, filename)\n",
    "            try:\n",
    "                # Analyze the face in the image with enforce_detection=False\n",
    "                print(f\"Processing {filename}\")\n",
    "                analysis = DeepFace.analyze(img_path=file_path, actions=['age', 'gender', 'race', 'emotion'], enforce_detection=False)\n",
    "\n",
    "                # DeepFace returns a list, so access the first dictionary in the list\n",
    "                analysis = analysis[0]\n",
    "\n",
    "                \n",
    "                #age = analysis.get('age', 'N/A')  # Use .get() to handle missing keys\n",
    "                #gender = analysis.get('dominant_gender', 'N/A')  # Correct key for gender\n",
    "                #race = analysis.get('dominant_race', 'N/A')  # Correct key for race\n",
    "                #emotion = analysis.get('dominant_emotion', 'N/A')  # Correct key for emotion\n",
    "                #print(analysis)\n",
    "\n",
    "                result_dict = {\n",
    "                    \"Image\": f\"{emotion_folder}_-_{filename}\",\n",
    "                    \"Age\": analysis.get('age', 'N/A'),\n",
    "                    \"Gender\": analysis.get('dominant_gender', 'N/A'),\n",
    "                    \"Race\": analysis.get('dominant_race', 'N/A'),\n",
    "                    \"Emotion\": analysis.get('dominant_emotion', 'N/A')\n",
    "                }\n",
    "                \n",
    "                # Append dictionary to results list\n",
    "                results.append(result_dict)\n",
    "\n",
    "                # print(f\"Processed {filename}: Age: {age}, Gender: {gender}, Race: {race}\")\n",
    "\n",
    "            except Exception as e:\n",
    "                # Handle the error gracefully and continue processing\n",
    "                print(f\"Error processing {filename}: {e}\")\n",
    "                continue\n",
    "\n",
    "    # Save results to CSV for further use\n",
    "    # Convert results list to DataFrame only at the end\n",
    "    if results:  # Check if we have any results\n",
    "        results_df = pd.DataFrame(results)\n",
    "        if DEMO:\n",
    "            folder = \"../3_annotation_results/\"\n",
    "            output_file = f'face_analysis_results_fer_{emotion_folder}_demo.csv'\n",
    "        else:\n",
    "            output_file = f'face_analysis_results_fer_{emotion_folder}.csv'\n",
    "        results_df.to_csv(folder+output_file, index=False)\n",
    "        print(f\"Analysis completed! Results saved to {output_file}\")\n",
    "    else:\n",
    "        print(\"No results to save!\")\n",
    "\n",
    "directory_path = '../../3_image_datasets/fer2013/test'\n",
    "expansion = \"fer\"\n",
    "emotion_folders = ['angry', 'disgust', 'fear', 'happy', 'neutral', 'sad', 'surprise']\n",
    "for e in emotion_folders:\n",
    "    analyze_faces_in_directory(directory=f\"{directory_path}/{e}\", \n",
    "                               emotion_folder=e,\n",
    "                               expansion=expansion,\n",
    "                               DEMO=DEMO,\n",
    "                               MAX_IMAGIES_TO_ANALYZE=MAX_IMAGIES_TO_ANALYZE)  \n"
   ]
  },
  {
   "cell_type": "markdown",
   "id": "f0ee6411",
   "metadata": {},
   "source": [
    "-----------------------------------"
   ]
  }
 ],
 "metadata": {
  "kernelspec": {
   "display_name": "Python 3",
   "language": "python",
   "name": "python3"
  },
  "language_info": {
   "codemirror_mode": {
    "name": "ipython",
    "version": 3
   },
   "file_extension": ".py",
   "mimetype": "text/x-python",
   "name": "python",
   "nbconvert_exporter": "python",
   "pygments_lexer": "ipython3",
   "version": "3.12.1"
  }
 },
 "nbformat": 4,
 "nbformat_minor": 5
}
