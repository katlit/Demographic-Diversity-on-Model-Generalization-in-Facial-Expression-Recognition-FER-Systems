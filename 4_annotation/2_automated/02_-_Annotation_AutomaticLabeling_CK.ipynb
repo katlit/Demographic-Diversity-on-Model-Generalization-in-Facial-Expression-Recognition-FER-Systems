{
 "cells": [
  {
   "cell_type": "markdown",
   "id": "3a369184",
   "metadata": {},
   "source": [
    "## CK"
   ]
  },
  {
   "cell_type": "code",
   "execution_count": 2,
   "id": "fabd9ded",
   "metadata": {},
   "outputs": [
    {
     "name": "stdout",
     "output_type": "stream",
     "text": [
      "WARNING:tensorflow:From c:\\Program Files\\Python312\\Lib\\site-packages\\tf_keras\\src\\losses.py:2976: The name tf.losses.sparse_softmax_cross_entropy is deprecated. Please use tf.compat.v1.losses.sparse_softmax_cross_entropy instead.\n",
      "\n"
     ]
    }
   ],
   "source": [
    "import os\n",
    "import pandas as pd\n",
    "# https://github.com/serengil/deepface\n",
    "from deepface import DeepFace\n",
    "import matplotlib.pyplot as plt\n",
    "from PIL import Image"
   ]
  },
  {
   "cell_type": "code",
   "execution_count": 3,
   "id": "374ffde6",
   "metadata": {},
   "outputs": [],
   "source": [
    "# swith it to false to run the full version\n",
    "DEMO = True\n",
    "MAX_IMAGIES_TO_ANALYZE = 3"
   ]
  },
  {
   "cell_type": "markdown",
   "id": "a8052d8e",
   "metadata": {},
   "source": [
    "### Annotate CK\n",
    "\n",
    "(including angry, fear, neutral, sad, disgust, happy and surprise)"
   ]
  },
  {
   "cell_type": "code",
   "execution_count": 7,
   "id": "a8eb4bfb",
   "metadata": {},
   "outputs": [
    {
     "name": "stdout",
     "output_type": "stream",
     "text": [
      "Processing S010_004_00000017.png\n"
     ]
    },
    {
     "name": "stderr",
     "output_type": "stream",
     "text": [
      "Action: emotion: 100%|██████████| 4/4 [00:01<00:00,  3.59it/s]\n"
     ]
    },
    {
     "name": "stdout",
     "output_type": "stream",
     "text": [
      "Processing S010_004_00000018.png\n"
     ]
    },
    {
     "name": "stderr",
     "output_type": "stream",
     "text": [
      "Action: emotion: 100%|██████████| 4/4 [00:01<00:00,  3.42it/s]\n"
     ]
    },
    {
     "name": "stdout",
     "output_type": "stream",
     "text": [
      "Processing S010_004_00000019.png\n"
     ]
    },
    {
     "name": "stderr",
     "output_type": "stream",
     "text": [
      "Action: emotion: 100%|██████████| 4/4 [00:01<00:00,  3.72it/s]\n"
     ]
    },
    {
     "name": "stdout",
     "output_type": "stream",
     "text": [
      "Analysis completed! Results saved to face_analysis_results_ck_anger_demo.csv\n",
      "Processing S005_001_00000009.png\n"
     ]
    },
    {
     "name": "stderr",
     "output_type": "stream",
     "text": [
      "Action: emotion: 100%|██████████| 4/4 [00:01<00:00,  3.68it/s]\n"
     ]
    },
    {
     "name": "stdout",
     "output_type": "stream",
     "text": [
      "Processing S005_001_00000010.png\n"
     ]
    },
    {
     "name": "stderr",
     "output_type": "stream",
     "text": [
      "Action: emotion: 100%|██████████| 4/4 [00:01<00:00,  3.51it/s]\n"
     ]
    },
    {
     "name": "stdout",
     "output_type": "stream",
     "text": [
      "Processing S005_001_00000011.png\n"
     ]
    },
    {
     "name": "stderr",
     "output_type": "stream",
     "text": [
      "Action: emotion: 100%|██████████| 4/4 [00:01<00:00,  3.89it/s]\n"
     ]
    },
    {
     "name": "stdout",
     "output_type": "stream",
     "text": [
      "Analysis completed! Results saved to face_analysis_results_ck_disgust_demo.csv\n",
      "Processing S011_003_00000012.png\n"
     ]
    },
    {
     "name": "stderr",
     "output_type": "stream",
     "text": [
      "Action: emotion: 100%|██████████| 4/4 [00:01<00:00,  3.53it/s]\n"
     ]
    },
    {
     "name": "stdout",
     "output_type": "stream",
     "text": [
      "Processing S011_003_00000013.png\n"
     ]
    },
    {
     "name": "stderr",
     "output_type": "stream",
     "text": [
      "Action: emotion: 100%|██████████| 4/4 [00:01<00:00,  2.95it/s]\n"
     ]
    },
    {
     "name": "stdout",
     "output_type": "stream",
     "text": [
      "Processing S011_003_00000014.png\n"
     ]
    },
    {
     "name": "stderr",
     "output_type": "stream",
     "text": [
      "Action: emotion: 100%|██████████| 4/4 [00:01<00:00,  3.50it/s]\n"
     ]
    },
    {
     "name": "stdout",
     "output_type": "stream",
     "text": [
      "Analysis completed! Results saved to face_analysis_results_ck_fear_demo.csv\n",
      "Processing S010_006_00000013.png\n"
     ]
    },
    {
     "name": "stderr",
     "output_type": "stream",
     "text": [
      "Action: emotion: 100%|██████████| 4/4 [00:01<00:00,  3.24it/s]\n"
     ]
    },
    {
     "name": "stdout",
     "output_type": "stream",
     "text": [
      "Processing S010_006_00000014.png\n"
     ]
    },
    {
     "name": "stderr",
     "output_type": "stream",
     "text": [
      "Action: emotion: 100%|██████████| 4/4 [00:01<00:00,  3.74it/s]\n"
     ]
    },
    {
     "name": "stdout",
     "output_type": "stream",
     "text": [
      "Processing S010_006_00000015.png\n"
     ]
    },
    {
     "name": "stderr",
     "output_type": "stream",
     "text": [
      "Action: emotion: 100%|██████████| 4/4 [00:01<00:00,  3.11it/s]\n"
     ]
    },
    {
     "name": "stdout",
     "output_type": "stream",
     "text": [
      "Analysis completed! Results saved to face_analysis_results_ck_happy_demo.csv\n",
      "Processing S011_002_00000020.png\n"
     ]
    },
    {
     "name": "stderr",
     "output_type": "stream",
     "text": [
      "Action: emotion: 100%|██████████| 4/4 [00:01<00:00,  2.55it/s]\n"
     ]
    },
    {
     "name": "stdout",
     "output_type": "stream",
     "text": [
      "Processing S011_002_00000021.png\n"
     ]
    },
    {
     "name": "stderr",
     "output_type": "stream",
     "text": [
      "Action: emotion: 100%|██████████| 4/4 [00:01<00:00,  2.36it/s]\n"
     ]
    },
    {
     "name": "stdout",
     "output_type": "stream",
     "text": [
      "Processing S011_002_00000022.png\n"
     ]
    },
    {
     "name": "stderr",
     "output_type": "stream",
     "text": [
      "Action: emotion: 100%|██████████| 4/4 [00:01<00:00,  2.26it/s]\n"
     ]
    },
    {
     "name": "stdout",
     "output_type": "stream",
     "text": [
      "Analysis completed! Results saved to face_analysis_results_ck_sadness_demo.csv\n",
      "Processing S010_002_00000012.png\n"
     ]
    },
    {
     "name": "stderr",
     "output_type": "stream",
     "text": [
      "Action: emotion: 100%|██████████| 4/4 [00:01<00:00,  3.11it/s]\n"
     ]
    },
    {
     "name": "stdout",
     "output_type": "stream",
     "text": [
      "Processing S010_002_00000013.png\n"
     ]
    },
    {
     "name": "stderr",
     "output_type": "stream",
     "text": [
      "Action: emotion: 100%|██████████| 4/4 [00:01<00:00,  2.76it/s]\n"
     ]
    },
    {
     "name": "stdout",
     "output_type": "stream",
     "text": [
      "Processing S010_002_00000014.png\n"
     ]
    },
    {
     "name": "stderr",
     "output_type": "stream",
     "text": [
      "Action: emotion: 100%|██████████| 4/4 [00:01<00:00,  3.07it/s]\n"
     ]
    },
    {
     "name": "stdout",
     "output_type": "stream",
     "text": [
      "Analysis completed! Results saved to face_analysis_results_ck_surprise_demo.csv\n",
      "Processing S138_008_00000007.png\n"
     ]
    },
    {
     "name": "stderr",
     "output_type": "stream",
     "text": [
      "Action: emotion: 100%|██████████| 4/4 [00:01<00:00,  3.16it/s]\n"
     ]
    },
    {
     "name": "stdout",
     "output_type": "stream",
     "text": [
      "Processing S138_008_00000008.png\n"
     ]
    },
    {
     "name": "stderr",
     "output_type": "stream",
     "text": [
      "Action: emotion: 100%|██████████| 4/4 [00:01<00:00,  3.27it/s]\n"
     ]
    },
    {
     "name": "stdout",
     "output_type": "stream",
     "text": [
      "Processing S138_008_00000009.png\n"
     ]
    },
    {
     "name": "stderr",
     "output_type": "stream",
     "text": [
      "Action: emotion: 100%|██████████| 4/4 [00:01<00:00,  2.65it/s]"
     ]
    },
    {
     "name": "stdout",
     "output_type": "stream",
     "text": [
      "Analysis completed! Results saved to face_analysis_results_ck_contempt_demo.csv\n"
     ]
    },
    {
     "name": "stderr",
     "output_type": "stream",
     "text": [
      "\n"
     ]
    }
   ],
   "source": [
    "def analyze_faces_in_directory(directory, emotion_folder, expansion=\"\", DEMO=True, MAX_IMAGIES_TO_ANALYZE=3):\n",
    "    # Create a DataFrame to store the analysis results\n",
    "    results_df = pd.DataFrame(columns=[\"Image\", \"Age\", \"Gender\", \"Race\", \"Emotion\"])\n",
    "    results = []\n",
    "\n",
    "    files = os.listdir(directory)\n",
    "\n",
    "    for demo_i, filename in enumerate(files):\n",
    "        if DEMO and demo_i >= MAX_IMAGIES_TO_ANALYZE:\n",
    "            break\n",
    "        if filename.endswith(\".jpg\") or filename.endswith(\".png\"):  # Add more extensions if needed\n",
    "            file_path = os.path.join(directory, filename)\n",
    "            try:\n",
    "                # Analyze the face in the image with enforce_detection=False\n",
    "                print(f\"Processing {filename}\")\n",
    "                analysis = DeepFace.analyze(img_path=file_path, actions=['age', 'gender', 'race', 'emotion'], enforce_detection=False)\n",
    "\n",
    "                # DeepFace returns a list, so access the first dictionary in the list\n",
    "                analysis = analysis[0]\n",
    "\n",
    "                result_dict = {\n",
    "                    \"Image\": f\"{emotion_folder}_-_{filename}\",\n",
    "                    \"Age\": analysis.get('age', 'N/A'),\n",
    "                    \"Gender\": analysis.get('dominant_gender', 'N/A'),\n",
    "                    \"Race\": analysis.get('dominant_race', 'N/A'),\n",
    "                    \"Emotion\": analysis.get('dominant_emotion', 'N/A')\n",
    "                }\n",
    "                \n",
    "                results.append(result_dict)\n",
    "\n",
    "            except Exception as e:\n",
    "                print(f\"Error processing {filename}: {e}\")\n",
    "                continue\n",
    "\n",
    "    # Save results to CSV for further use\n",
    "    if results:  # Check if we have any results\n",
    "        results_df = pd.DataFrame(results)\n",
    "        folder = \"../3_annotation_results/\"\n",
    "        if DEMO:\n",
    "            output_file = f'face_analysis_results_{expansion}_{emotion_folder}_demo.csv'\n",
    "        else:\n",
    "            output_file = f'face_analysis_results_{expansion}_{emotion_folder}.csv'\n",
    "        results_df.to_csv(folder+output_file, index=False)\n",
    "        print(f\"Analysis completed! Results saved to {output_file}\")\n",
    "    else:\n",
    "        print(\"No results to save!\")\n",
    "\n",
    "\n",
    "directory_path = '../../3_image_datasets/ck/'\n",
    "expansion = \"ck\"\n",
    "emotion_folders = ['anger', 'disgust', 'fear', 'happy', 'sadness', 'surprise', 'contempt']\n",
    "for e in emotion_folders:\n",
    "    analyze_faces_in_directory(directory=f\"{directory_path}/{e}\", \n",
    "                               emotion_folder=e,\n",
    "                               expansion=expansion,\n",
    "                               DEMO=DEMO)  \n"
   ]
  }
 ],
 "metadata": {
  "kernelspec": {
   "display_name": "Python 3",
   "language": "python",
   "name": "python3"
  },
  "language_info": {
   "codemirror_mode": {
    "name": "ipython",
    "version": 3
   },
   "file_extension": ".py",
   "mimetype": "text/x-python",
   "name": "python",
   "nbconvert_exporter": "python",
   "pygments_lexer": "ipython3",
   "version": "3.12.1"
  }
 },
 "nbformat": 4,
 "nbformat_minor": 5
}
