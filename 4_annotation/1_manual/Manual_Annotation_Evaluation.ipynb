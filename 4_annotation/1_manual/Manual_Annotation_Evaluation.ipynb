{
 "cells": [
  {
   "cell_type": "code",
   "execution_count": 2,
   "id": "e78af308",
   "metadata": {},
   "outputs": [
    {
     "ename": "ModuleNotFoundError",
     "evalue": "No module named 'statsmodels'",
     "output_type": "error",
     "traceback": [
      "\u001b[1;31m---------------------------------------------------------------------------\u001b[0m",
      "\u001b[1;31mModuleNotFoundError\u001b[0m                       Traceback (most recent call last)",
      "Cell \u001b[1;32mIn[2], line 6\u001b[0m\n\u001b[0;32m      3\u001b[0m \u001b[38;5;28;01mimport\u001b[39;00m \u001b[38;5;21;01mmatplotlib\u001b[39;00m\u001b[38;5;21;01m.\u001b[39;00m\u001b[38;5;21;01mpyplot\u001b[39;00m \u001b[38;5;28;01mas\u001b[39;00m \u001b[38;5;21;01mplt\u001b[39;00m\n\u001b[0;32m      5\u001b[0m \u001b[38;5;28;01mfrom\u001b[39;00m \u001b[38;5;21;01mcollections\u001b[39;00m \u001b[38;5;28;01mimport\u001b[39;00m Counter\n\u001b[1;32m----> 6\u001b[0m \u001b[38;5;28;01mfrom\u001b[39;00m \u001b[38;5;21;01mstatsmodels\u001b[39;00m\u001b[38;5;21;01m.\u001b[39;00m\u001b[38;5;21;01mstats\u001b[39;00m\u001b[38;5;21;01m.\u001b[39;00m\u001b[38;5;21;01minter_rater\u001b[39;00m \u001b[38;5;28;01mimport\u001b[39;00m fleiss_kappa\n",
      "\u001b[1;31mModuleNotFoundError\u001b[0m: No module named 'statsmodels'"
     ]
    }
   ],
   "source": [
    "import numpy as np\n",
    "import pandas as pd\n",
    "import matplotlib.pyplot as plt\n",
    "\n",
    "from collections import Counter\n",
    "from statsmodels.stats.inter_rater import fleiss_kappa"
   ]
  },
  {
   "cell_type": "code",
   "execution_count": null,
   "id": "be610bc9",
   "metadata": {
    "scrolled": false
   },
   "outputs": [],
   "source": [
    "# Read in the CSV file\n",
    "file_path = 'annotationsManual_ALL.csv'\n",
    "\n",
    "data = pd.read_csv(file_path)\n",
    "print(data.shape[0])\n",
    "data.head()"
   ]
  },
  {
   "cell_type": "markdown",
   "id": "4dbd7773",
   "metadata": {},
   "source": [
    "# Majority Voting to select the labels with Calculate Fleiss' Kappa\n",
    "Use statsmodels to Calculate Fleiss' Kappa:\n",
    "\n",
    "Fleiss' Kappa is calculated using the statsmodels library, which accepts a NumPy array of counts.\n",
    "Interpret Results:\n",
    "\n",
    "- < 0.0: Poor agreement.\n",
    "- 0.01–0.20: Slight agreement.\n",
    "- 0.21–0.40: Fair agreement.\n",
    "- 0.41–0.60: Moderate agreement.\n",
    "- 0.61–0.80: Substantial agreement.\n",
    "- 0.81–1.00: Almost perfect agreement.\n"
   ]
  },
  {
   "cell_type": "code",
   "execution_count": null,
   "id": "8b4feb86",
   "metadata": {
    "scrolled": false
   },
   "outputs": [],
   "source": [
    "def create_count_table(data, attribute_prefix):\n",
    "    # Collect unique possible values for the attribute\n",
    "    possible_values = data.filter(like=attribute_prefix).melt()['value'].dropna().unique()\n",
    "    \n",
    "    # Initialize the count table with images as the index\n",
    "    count_table = pd.DataFrame(0, index=data['Image'], columns=possible_values)\n",
    "    \n",
    "    # Count occurrences of each label from the annotators\n",
    "    for column in data.filter(like=attribute_prefix).columns:\n",
    "        temp_counts = pd.get_dummies(data[column], prefix='', prefix_sep='').groupby(data['Image']).sum()\n",
    "        count_table = count_table.add(temp_counts, fill_value=0)\n",
    "    \n",
    "    return count_table\n",
    "\n",
    "\n",
    "# Create count tables for Gender, Age, and Ethnicity\n",
    "gender_counts = create_count_table(data, 'Gender')\n",
    "age_counts = create_count_table(data, 'Age')\n",
    "ethnicity_counts = create_count_table(data, 'Ethnicity')\n",
    "ethnicity_counts"
   ]
  },
  {
   "cell_type": "code",
   "execution_count": null,
   "id": "fae9202e",
   "metadata": {
    "scrolled": true
   },
   "outputs": [],
   "source": [
    "from statsmodels.stats.inter_rater import fleiss_kappa\n",
    "\n",
    "# Calculate Fleiss' Kappa for Gender\n",
    "gender_kappa = fleiss_kappa(gender_counts.to_numpy())\n",
    "print(f\"Fleiss' Kappa for Gender: {gender_kappa}\")\n",
    "\n",
    "# Calculate Fleiss' Kappa for Age\n",
    "age_kappa = fleiss_kappa(age_counts.to_numpy())\n",
    "print(f\"Fleiss' Kappa for Age: {age_kappa}\")\n",
    "\n",
    "# Calculate Fleiss' Kappa for Ethnicity\n",
    "ethnicity_kappa = fleiss_kappa(ethnicity_counts.to_numpy())\n",
    "print(f\"Fleiss' Kappa for Ethnicity: {ethnicity_kappa}\")\n"
   ]
  },
  {
   "cell_type": "markdown",
   "id": "9bab6493",
   "metadata": {},
   "source": [
    "We have for each categories substantial agreement.    - These values suggest that annotators have a reasonable level of consistency, particularly for gender, which has the highest agreement."
   ]
  },
  {
   "cell_type": "code",
   "execution_count": null,
   "id": "170f1cdc",
   "metadata": {},
   "outputs": [],
   "source": [
    "def majority_vote_with_ambiguity(data, attribute_prefix):\n",
    "    # Select relevant columns based on the attribute prefix (e.g., Age, Gender, Ethnicity)\n",
    "    relevant_columns = [col for col in data.columns if col.startswith(attribute_prefix)]\n",
    "    \n",
    "    # Create a list to store final labels with ambiguity check\n",
    "    final_labels = []\n",
    "    \n",
    "    for index, row in data[relevant_columns].iterrows():\n",
    "        # Count the frequency of each label in the row\n",
    "        label_counts = row.value_counts()\n",
    "        max_count = label_counts.max()\n",
    "        \n",
    "        # Check for ambiguity (more than one label has the same maximum count)\n",
    "        if (label_counts == max_count).sum() > 1:\n",
    "            final_labels.append(\"Ambiguous\")  # Flag as ambiguous\n",
    "        else:\n",
    "            # Otherwise, select the label with the maximum count\n",
    "            final_labels.append(label_counts.idxmax())\n",
    "    \n",
    "    # Return the final labels as a Series\n",
    "    return pd.Series(final_labels, index=data.index)\n",
    "\n",
    "# Apply the majority voting with ambiguity handling\n",
    "data['Final_Age'] = majority_vote_with_ambiguity(data, 'Age')\n",
    "data['Final_Gender'] = majority_vote_with_ambiguity(data, 'Gender')\n",
    "data['Final_Ethnicity'] = majority_vote_with_ambiguity(data, 'Ethnicity')\n",
    "\n",
    "# Save the reset DataFrame to a CSV file\n",
    "final_labels_file_path = 'FinalManualLabels.csv'  # Update the path as needed\n",
    "data.to_csv(final_labels_file_path, index=False)\n",
    "\n",
    "data.head()"
   ]
  },
  {
   "cell_type": "code",
   "execution_count": null,
   "id": "3794a760",
   "metadata": {
    "scrolled": false
   },
   "outputs": [],
   "source": [
    "# Plot 1: Bar Plot of Final Labels for Gender, Ethnicity, and Age\n",
    "fig, ax = plt.subplots(1, 3, figsize=(18, 5))\n",
    "\n",
    "# Final Gender Label Distribution\n",
    "data['Final_Gender'].value_counts().plot(kind='bar', ax=ax[0], color='black')\n",
    "ax[0].set_title(\"Final Gender Label Distribution\")\n",
    "ax[0].set_xlabel(\"Gender\")\n",
    "ax[0].set_ylabel(\"Count\")\n",
    "\n",
    "# Final Ethnicity Label Distribution\n",
    "data['Final_Ethnicity'].value_counts().plot(kind='bar', ax=ax[1], color='black')\n",
    "ax[1].set_title(\"Final Ethnicity Label Distribution\")\n",
    "ax[1].set_xlabel(\"Ethnicity\")\n",
    "ax[1].set_ylabel(\"Count\")\n",
    "\n",
    "# Final Age Label Distribution\n",
    "data['Final_Age'].value_counts().plot(kind='bar', ax=ax[2], color='black')\n",
    "ax[2].set_title(\"Final Age Label Distribution\")\n",
    "ax[2].set_xlabel(\"Age Group\")\n",
    "ax[2].set_ylabel(\"Count\")\n",
    "\n",
    "plt.tight_layout()\n",
    "plt.show()\n"
   ]
  },
  {
   "cell_type": "code",
   "execution_count": null,
   "id": "ab45355c",
   "metadata": {
    "scrolled": false
   },
   "outputs": [],
   "source": [
    "df= data.copy()\n",
    "\n",
    "# Define the annotator columns\n",
    "annotator_columns = [\n",
    "    ('age', ['Age_A1', 'Age_A2', 'Age_A3']),\n",
    "    ('gender', ['Gender_A1', 'Gender_A2', 'Gender_A3']),\n",
    "    ('ethnicity', ['Ethnicity_A1', 'Ethnicity_A2', 'Ethnicity_A3'])\n",
    "]\n",
    "\n",
    "# Function to plot grouped horizontal bar charts for annotations by category and annotator\n",
    "def plot_grouped_bar_horizontal(attribute, annotator_cols):\n",
    "    # Count frequencies of each category for each annotator\n",
    "    category_counts = pd.DataFrame(columns=['Annotator', 'Category', 'Count'])\n",
    "    for col in annotator_cols:\n",
    "        counts = df[col].value_counts().reset_index()\n",
    "        counts.columns = ['Category', 'Count']\n",
    "        counts['Annotator'] = col\n",
    "        category_counts = pd.concat([category_counts, counts], ignore_index=True)\n",
    "    \n",
    "    # Plot grouped horizontal bar chart\n",
    "    plt.figure(figsize=(8, 5))\n",
    "    sns.barplot(\n",
    "        data=category_counts, \n",
    "        y='Category', \n",
    "        x='Count', \n",
    "        hue='Annotator', \n",
    "        palette='Set2',\n",
    "        orient='h'\n",
    "    )\n",
    "    plt.title(f\"{attribute.capitalize()} Annotations by Annotator\", fontsize=12)\n",
    "    plt.ylabel(f\"{attribute.capitalize()} Categories\", fontsize=10)\n",
    "    plt.xlabel(\"Frequency\", fontsize=10)\n",
    "    plt.legend(title=\"Annotators\", fontsize=8)\n",
    "    plt.tight_layout()\n",
    "    plt.show()\n",
    "\n",
    "# Loop through the attributes and their corresponding columns for horizontal bar charts\n",
    "for attribute, annotator_cols in annotator_columns:\n",
    "    plot_grouped_bar_horizontal(attribute, annotator_cols)\n"
   ]
  },
  {
   "cell_type": "markdown",
   "id": "2cfcb0c8",
   "metadata": {},
   "source": [
    "#  Ambiguous Cases"
   ]
  },
  {
   "cell_type": "code",
   "execution_count": null,
   "id": "aa386bd6",
   "metadata": {},
   "outputs": [],
   "source": [
    "import os\n",
    "import matplotlib.pyplot as plt\n",
    "from PIL import Image\n",
    "\n",
    "# Set base directory path\n",
    "base_dir = \"../datasets/AffectNet/Test\"  # Replace with the actual path\n",
    "\n",
    "# Set up the grid dimensions\n",
    "fig, axes = plt.subplots(7, 6, figsize=(15, 12))  \n",
    "\n",
    "# Flatten the axes array for easy iteration\n",
    "axes = axes.flatten()\n",
    "\n",
    "# Track the index of the image we're displaying\n",
    "for idx, (index, row) in enumerate(data.iterrows()):\n",
    "    if idx >= 42:  # Stop after displaying 42 images (6x7 grid)\n",
    "        break\n",
    "\n",
    "    image_name = row[\"Image\"]\n",
    "    folder_name = row[\"FolderNames\"]\n",
    "    \n",
    "     # Construct the full image path\n",
    "    image_path = os.path.join(base_dir, folder_name, image_name)\n",
    "    \n",
    "    # Try to open the image file\n",
    "    if os.path.exists(image_path):\n",
    "        img = Image.open(image_path)\n",
    "    else:\n",
    "        print(f\"Image not found: {image_name} in folder {folder_name}\")\n",
    "        continue  # Skip to the next image if the file does not exist\n",
    "\n",
    "    # Display the image on the grid\n",
    "    axes[idx].imshow(img)\n",
    "    axes[idx].axis(\"off\")\n",
    "    \n",
    "    # Prepare title with age, gender, and ethnicity information\n",
    "    age = row[\"Final_Age\"]\n",
    "    gender = row[\"Final_Gender\"]\n",
    "    ethnicity = row[\"Final_Ethnicity\"]\n",
    "\n",
    "    # Check if any label is \"Ambiguous\" and adjust style accordingly\n",
    "    if age == \"Ambiguous\" or gender == \"Ambiguous\" or ethnicity == \"Ambiguous\":\n",
    "        # Highlight ambiguous labels in red with larger font\n",
    "        title = f\"{age}\\n{gender}\\n{ethnicity}\"\n",
    "        axes[idx].set_title(title, fontsize=12, color=\"orange\", fontweight=\"bold\")\n",
    "    else:\n",
    "        # Regular title for non-ambiguous labels\n",
    "        title = f\"{age}\\n{gender}\\n{ethnicity}\"\n",
    "        axes[idx].set_title(title, fontsize=10, color=\"black\")\n",
    "\n",
    "# Hide any remaining empty subplots\n",
    "for j in range(idx + 1, len(axes)):\n",
    "    axes[j].axis(\"off\")\n",
    "\n",
    "# Add a main title for the entire figure\n",
    "fig.suptitle(\"Final Labels After Majority Voting\", fontsize=16, fontweight=\"bold\")\n",
    "\n",
    "plt.tight_layout(rect=[0, 0.03, 1, 0.95])  # Adjust layout to fit the main title\n",
    "plt.show()"
   ]
  },
  {
   "cell_type": "markdown",
   "id": "f3b3d742",
   "metadata": {},
   "source": [
    " - The ambiguous labels were highlighted in the grid plot, indicating cases where the annotators did not agree on a majority label."
   ]
  },
  {
   "cell_type": "code",
   "execution_count": null,
   "id": "151961d6",
   "metadata": {
    "scrolled": false
   },
   "outputs": [],
   "source": [
    "# Filter ambiguous cases\n",
    "ambiguous_cases = data[(data['Final_Age'] == \"Ambiguous\") |\n",
    "                       (data['Final_Gender'] == \"Ambiguous\") |\n",
    "                       (data['Final_Ethnicity'] == \"Ambiguous\")]\n",
    "\n",
    "# Count ambiguous cases by attribute\n",
    "ambiguous_summary = {\n",
    "    \"Age\": (data['Final_Age'] == \"Ambiguous\").sum(),\n",
    "    \"Gender\": (data['Final_Gender'] == \"Ambiguous\").sum(),\n",
    "    \"Ethnicity\": (data['Final_Ethnicity'] == \"Ambiguous\").sum()\n",
    "}\n",
    "\n",
    "print(\"Ambiguous Cases Summary:\")\n",
    "print(ambiguous_summary)\n",
    "\n",
    "# Display ambiguous cases for review\n",
    "ambiguous_cases.head()\n"
   ]
  },
  {
   "cell_type": "markdown",
   "id": "06ab27b9",
   "metadata": {},
   "source": [
    "# Annotation Bias"
   ]
  },
  {
   "cell_type": "markdown",
   "id": "de1c33ba",
   "metadata": {},
   "source": [
    "With a low sample size, it's more likely that the ambiguity stems from inherent challenges in the images themselves rather than systematic biases among annotators. Overlapping characteristics in certain categories (e.g., age or ethnicity) can make annotation inherently subjective. For the woman’s case, subjectivity in age perception plays a major role, while for the baby’s case, the lack of distinct ethnic features contributes to the disagreement.\n",
    "\n",
    "Since we do not have access to the true labels for these pictures, the best course of action is to accept the final labels, including ambiguous ones, as the ground truth for this dataset. This approach assumes that the observed annotations and their associated majority voting outcomes, even when ambiguous, represent the most reliable consensus available given the data."
   ]
  },
  {
   "cell_type": "code",
   "execution_count": null,
   "id": "fa14eb36",
   "metadata": {},
   "outputs": [],
   "source": []
  }
 ],
 "metadata": {
  "kernelspec": {
   "display_name": "BASIC",
   "language": "python",
   "name": "python3"
  },
  "language_info": {
   "codemirror_mode": {
    "name": "ipython",
    "version": 3
   },
   "file_extension": ".py",
   "mimetype": "text/x-python",
   "name": "python",
   "nbconvert_exporter": "python",
   "pygments_lexer": "ipython3",
   "version": "3.13.1"
  }
 },
 "nbformat": 4,
 "nbformat_minor": 5
}
