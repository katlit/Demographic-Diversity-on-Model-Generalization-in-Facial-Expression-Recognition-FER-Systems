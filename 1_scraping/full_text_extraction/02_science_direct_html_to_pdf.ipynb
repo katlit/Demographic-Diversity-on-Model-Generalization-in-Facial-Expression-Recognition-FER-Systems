{
 "cells": [
  {
   "cell_type": "markdown",
   "metadata": {},
   "source": [
    "### HTML to PDF converter\n",
    "This script is designed to convert saved HTML files from ScienceDirect into PDF format."
   ]
  },
  {
   "cell_type": "code",
   "execution_count": 2,
   "metadata": {},
   "outputs": [],
   "source": [
    "import os\n",
    "from bs4 import BeautifulSoup\n",
    "from fpdf import FPDF\n",
    "import html2text\n",
    "import re"
   ]
  },
  {
   "cell_type": "code",
   "execution_count": null,
   "metadata": {},
   "outputs": [],
   "source": [
    "DEMO = True\n",
    "NUMBER_OF_PAPERS = 3"
   ]
  },
  {
   "cell_type": "markdown",
   "metadata": {},
   "source": [
    "#### Functions\n",
    "\n",
    "parsing, text cleaning, etc"
   ]
  },
  {
   "cell_type": "code",
   "execution_count": 3,
   "metadata": {},
   "outputs": [],
   "source": [
    "def clean_text(text):\n",
    "    # Remove multiple newlines and spaces\n",
    "    text = re.sub(r'\\n\\s*\\n', '\\n\\n', text)\n",
    "    text = re.sub(r' +', ' ', text)\n",
    "    return text.strip()\n",
    "\n",
    "def html_to_pdf(html_file, output_pdf):\n",
    "    # Read HTML file\n",
    "    with open(html_file, 'r', encoding='utf-8') as file:\n",
    "        html_content = file.read()\n",
    "\n",
    "    # Parse HTML\n",
    "    soup = BeautifulSoup(html_content, 'html.parser')\n",
    "\n",
    "    # Extract title from the specific span class\n",
    "    title = soup.find('span', class_='title-text')\n",
    "    title_text = title.text if title else \"No title found\"\n",
    "    title_text = f\"## Title: {title_text}\"\n",
    "    \n",
    "    # Remove script and style elements\n",
    "    for script in soup([\"script\", \"style\"]):\n",
    "        script.decompose()\n",
    "\n",
    "    # Convert HTML to plain text\n",
    "    h = html2text.HTML2Text()\n",
    "    h.ignore_links = True\n",
    "    h.ignore_images = True\n",
    "    text = h.handle(str(soup))\n",
    "    \n",
    "    # Clean the text\n",
    "    text = clean_text(text)\n",
    "\n",
    "    # Create PDF\n",
    "    pdf = FPDF()\n",
    "    pdf.add_page()\n",
    "    pdf.set_auto_page_break(auto=True, margin=15)\n",
    "    \n",
    "    # Add title with larger font size and bold\n",
    "    pdf.set_font(\"Arial\", 'B', size=16)  # 'B' for bold\n",
    "    pdf.multi_cell(0, 10, txt=f\"{title_text}\")\n",
    "    pdf.ln(5)  # Add some space after title\n",
    "    \n",
    "    # Set font back to normal for main text\n",
    "    pdf.set_font(\"Arial\", size=11)\n",
    "    \n",
    "    # Add text to PDF\n",
    "    # Split text into lines to avoid overflow\n",
    "    lines = text.split('\\n')\n",
    "    for line in lines:\n",
    "        if line.strip():  # Only add non-empty lines\n",
    "            try:\n",
    "                if title_text not in line:\n",
    "                    try:\n",
    "                        pdf.multi_cell(0, 5, txt=line.encode('latin-1', 'replace').decode('latin-1'))\n",
    "                    except:\n",
    "                        pdf.multi_cell(0, 5, txt=line.encode('latin-1', 'replace').decode('latin-1', 'ignore'))\n",
    "\n",
    "            except:\n",
    "                # If encoding fails, try to clean the text further\n",
    "                clean_line = ''.join(char for char in line if ord(char) < 128)\n",
    "                # clean_line = line.encode('ascii', 'replace').decode('ascii')\n",
    "                # clean_line = line.encode('ascii', 'ignore').decode('ascii')\n",
    "                # clean_line = ''.join(char if ord(char) < 128 else '-' for char in line)\n",
    "                if title_text not in clean_line:\n",
    "                    pdf.multi_cell(0, 5, txt=clean_line)\n",
    "\n",
    "    # Save PDF\n",
    "    pdf.output(output_pdf)\n",
    "\n",
    "def process_html_files(input_directory, output_directory):\n",
    "    # Create output directory if it doesn't exist\n",
    "    if not os.path.exists(output_directory):\n",
    "        os.makedirs(output_directory)\n",
    "    \n",
    "    # Process all HTML files in the input directory\n",
    "    c = 0\n",
    "    for filename in os.listdir(input_directory):\n",
    "        if DEMO and c > NUMBER_OF_PAPERS:\n",
    "            break\n",
    "        filename = filename.replace(' ', '_')\n",
    "        if filename.endswith('.html'):\n",
    "            html_path = os.path.join(input_directory, filename)\n",
    "            pdf_path = os.path.join(output_directory, filename.replace('.html', '.pdf'))\n",
    "            print(f\"Converting {filename} to PDF...\")\n",
    "            try:\n",
    "                html_to_pdf(html_path, pdf_path)\n",
    "                print(f\"Successfully created {pdf_path}\")\n",
    "            except Exception as e:\n",
    "                print(f\"Error processing {filename}: {str(e)}\")\n",
    "\n",
    "        c += 1\n"
   ]
  },
  {
   "cell_type": "markdown",
   "metadata": {},
   "source": [
    "### Main script\n",
    "\n",
    "This script will convert raw html into pdf"
   ]
  },
  {
   "cell_type": "code",
   "execution_count": 4,
   "metadata": {},
   "outputs": [
    {
     "name": "stdout",
     "output_type": "stream",
     "text": [
      "Converting science_direct_102.html to PDF...\n",
      "Successfully created e:\\ITU-BOOK\\Data in Wild\\Project\\DataInWild\\SUBMISSION\\1_scraping\\x_research_papers_save\\1_raw_files\\science_direct_102.pdf\n",
      "Converting science_direct_135.html to PDF...\n",
      "Successfully created e:\\ITU-BOOK\\Data in Wild\\Project\\DataInWild\\SUBMISSION\\1_scraping\\x_research_papers_save\\1_raw_files\\science_direct_135.pdf\n",
      "Converting science_direct_166.html to PDF...\n",
      "Successfully created e:\\ITU-BOOK\\Data in Wild\\Project\\DataInWild\\SUBMISSION\\1_scraping\\x_research_papers_save\\1_raw_files\\science_direct_166.pdf\n",
      "Converting science_direct_173.html to PDF...\n",
      "Successfully created e:\\ITU-BOOK\\Data in Wild\\Project\\DataInWild\\SUBMISSION\\1_scraping\\x_research_papers_save\\1_raw_files\\science_direct_173.pdf\n",
      "Converting science_direct_20.html to PDF...\n",
      "Successfully created e:\\ITU-BOOK\\Data in Wild\\Project\\DataInWild\\SUBMISSION\\1_scraping\\x_research_papers_save\\1_raw_files\\science_direct_20.pdf\n",
      "Converting science_direct_234.html to PDF...\n",
      "Successfully created e:\\ITU-BOOK\\Data in Wild\\Project\\DataInWild\\SUBMISSION\\1_scraping\\x_research_papers_save\\1_raw_files\\science_direct_234.pdf\n",
      "Converting science_direct_237.html to PDF...\n",
      "Successfully created e:\\ITU-BOOK\\Data in Wild\\Project\\DataInWild\\SUBMISSION\\1_scraping\\x_research_papers_save\\1_raw_files\\science_direct_237.pdf\n",
      "Converting science_direct_40.html to PDF...\n",
      "Successfully created e:\\ITU-BOOK\\Data in Wild\\Project\\DataInWild\\SUBMISSION\\1_scraping\\x_research_papers_save\\1_raw_files\\science_direct_40.pdf\n"
     ]
    }
   ],
   "source": [
    "input_dir = os.path.join(os.path.dirname(os.path.abspath('.')), \"x_research_papers_save\", \"1_raw_files\")\n",
    "output_dir = os.path.join(os.path.dirname(os.path.abspath('.')), \"x_research_papers_save\", \"1_raw_files\")\n",
    "process_html_files(input_dir, output_dir)"
   ]
  }
 ],
 "metadata": {
  "kernelspec": {
   "display_name": "Python 3",
   "language": "python",
   "name": "python3"
  },
  "language_info": {
   "codemirror_mode": {
    "name": "ipython",
    "version": 3
   },
   "file_extension": ".py",
   "mimetype": "text/x-python",
   "name": "python",
   "nbconvert_exporter": "python",
   "pygments_lexer": "ipython3",
   "version": "3.12.1"
  }
 },
 "nbformat": 4,
 "nbformat_minor": 2
}
