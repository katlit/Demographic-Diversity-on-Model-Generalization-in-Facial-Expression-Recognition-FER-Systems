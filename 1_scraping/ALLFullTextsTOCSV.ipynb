{
 "cells": [
  {
   "cell_type": "code",
   "execution_count": 5,
   "id": "785c9d7b",
   "metadata": {},
   "outputs": [],
   "source": [
    "import pandas as pd\n",
    "import os\n",
    "#from PyPDF2 import PdfReader\n",
    "import glob\n",
    "from bs4 import BeautifulSoup"
   ]
  },
  {
   "cell_type": "code",
   "execution_count": 6,
   "id": "28efb7d3",
   "metadata": {},
   "outputs": [
    {
     "name": "stdout",
     "output_type": "stream",
     "text": [
      "We have collected 261 FER classification papers\n"
     ]
    },
    {
     "data": {
      "text/plain": [
       "Base_Domain\n",
       "ieee.org              84\n",
       "arxiv.org             41\n",
       "sciencedirect.com     40\n",
       "springer.com          22\n",
       "nih.gov               22\n",
       "acm.org               13\n",
       "mdpi.com               8\n",
       "thecvf.com             6\n",
       "researchgate.net       4\n",
       "paperswithcode.com     2\n",
       "wiley.com              2\n",
       "tandfonline.com        2\n",
       "psu.edu                1\n",
       "cmu.edu                1\n",
       "oup.com                1\n",
       "computer.org           1\n",
       "kdef.se                1\n",
       "auth.gr                1\n",
       "mlr.press              1\n",
       "iop.org                1\n",
       "utpjournals.press      1\n",
       "github.com             1\n",
       "cedus.it               1\n",
       "nature.com             1\n",
       "sagepub.com            1\n",
       "plos.org               1\n",
       "toronto.edu            1\n",
       "Name: count, dtype: int64"
      ]
     },
     "execution_count": 6,
     "metadata": {},
     "output_type": "execute_result"
    }
   ],
   "source": [
    "Scrapes_NoFull_df = pd.read_csv('Scrapes_ALL.csv')\n",
    "print('We have collected', Scrapes_NoFull_df.shape[0], 'FER classification papers')\n",
    "\n",
    "# Function to extract the base domain of a URL (until .com, .org, etc.)\n",
    "def extract_base_domain(url):\n",
    "    if pd.notna(url):\n",
    "        # Split the URL and return the main domain (e.g., 'arxiv.org', 'ieee.org')\n",
    "        return '.'.join(url.split('/')[2].split('.')[-2:])\n",
    "    return None\n",
    "\n",
    "# Apply the function to extract base domains\n",
    "Scrapes_NoFull_df['Base_Domain'] = Scrapes_NoFull_df['URL'].apply(extract_base_domain)\n",
    "\n",
    "Scrapes_NoFull_df['Base_Domain'].value_counts()"
   ]
  },
  {
   "cell_type": "markdown",
   "id": "c8d3e9c6",
   "metadata": {},
   "source": [
    "# ieee read in"
   ]
  },
  {
   "cell_type": "code",
   "execution_count": 8,
   "id": "c43845ea",
   "metadata": {},
   "outputs": [
    {
     "name": "stdout",
     "output_type": "stream",
     "text": [
      "Number of entries with extracted text: 65\n"
     ]
    }
   ],
   "source": [
    "import pandas as pd\n",
    "\n",
    "# Path to the csv file\n",
    "file_path_IEEE = 'results/ieee_full_texts.csv'\n",
    "\n",
    "# Read the csv file\n",
    "FullTextIEEE_df = pd.read_csv(file_path_IEEE)\n",
    "\n",
    "# Replace specified strings with actual NaN values\n",
    "FullTextIEEE_df['texts'] = FullTextIEEE_df['texts'].replace([\"Nothing found\", \"Error\"], pd.NA)\n",
    "\n",
    "# Count entries where 'texts' is not NaN\n",
    "found_text_count = FullTextIEEE_df['texts'].notna().sum()\n",
    "\n",
    "print(f\"Number of entries with extracted text: {found_text_count}\")\n"
   ]
  },
  {
   "cell_type": "markdown",
   "id": "655f1e38",
   "metadata": {},
   "source": [
    "# arxiv full texts to csv "
   ]
  },
  {
   "cell_type": "code",
   "execution_count": 9,
   "id": "502b33cc",
   "metadata": {
    "scrolled": false
   },
   "outputs": [
    {
     "name": "stdout",
     "output_type": "stream",
     "text": [
      "Number of entries with extracted text: 37\n"
     ]
    }
   ],
   "source": [
    "#read in the csv file with the saved arxiv fulltext\n",
    "file_path_Arxiv = 'results/arxiv_full_texts.csv'\n",
    "\n",
    "FullTextArx_df = pd.read_csv(file_path_Arxiv)\n",
    "\n",
    "columns_to_remove = ['Unnamed: 0.1', 'Unnamed: 0', 'DOI', 'Mentions_Accuracy', 'Mentions_F1', 'Mentions_Precision', 'Mentions_Recall', 'Mentions_Auc', 'Mentions_Roc', 'Mentions_Sensitivity', 'Mentions_Specificity', 'Mentions_Confusion_matrix', 'Mentions_Loss_function', 'Mentions_Cross-entropy', 'Mentions_Mean_squared_error', 'Mentions_Overfitting', 'Mentions_Underfitting', 'Mentions_Cross-validation', 'Mentions_Training_time', 'Mentions_Inference_time', 'Mentions_Statistical_significance', 'Mentions_P-value', 'Mentions_T-test', 'Mentions_Anova', 'Mentions_Correlation', 'Mentions_Regression', 'Mentions_Baseline_comparison', 'Mentions_Mae', 'Mentions_Rmse', 'Mentions_Bias'] \n",
    "# Drop the specified columns\n",
    "FullTextArx_df = FullTextArx_df.drop(columns=columns_to_remove)\n",
    "\n",
    "print(f\"Number of entries with extracted text: {FullTextArx_df['Full_Text'].count()}\")\n",
    "#FullTextArx_df.head()"
   ]
  },
  {
   "cell_type": "markdown",
   "id": "5e476d37",
   "metadata": {},
   "source": [
    "# SciencDirect read in"
   ]
  },
  {
   "cell_type": "code",
   "execution_count": 11,
   "id": "a3909776",
   "metadata": {
    "scrolled": false
   },
   "outputs": [
    {
     "name": "stdout",
     "output_type": "stream",
     "text": [
      "Number of entries with extracted text: 8\n"
     ]
    }
   ],
   "source": [
    "#read in the csv file with the saved arxiv fulltext\n",
    "file_path_SD = 'results/science_direct_full_texts.csv'\n",
    "\n",
    "FullTextSD_df = pd.read_csv(file_path_SD)\n",
    "\n",
    "columns_to_remove = ['Unnamed: 0', 'DOI', 'Mentions_Accuracy', 'Mentions_F1', 'Mentions_Precision', 'Mentions_Recall', 'Mentions_Auc', 'Mentions_Roc', 'Mentions_Sensitivity', 'Mentions_Specificity', 'Mentions_Confusion_matrix', 'Mentions_Loss_function', 'Mentions_Cross-entropy', 'Mentions_Mean_squared_error', 'Mentions_Overfitting', 'Mentions_Underfitting', 'Mentions_Cross-validation', 'Mentions_Training_time', 'Mentions_Inference_time', 'Mentions_Statistical_significance', 'Mentions_P-value', 'Mentions_T-test', 'Mentions_Anova', 'Mentions_Correlation', 'Mentions_Regression', 'Mentions_Baseline_comparison', 'Mentions_Mae', 'Mentions_Rmse', 'Mentions_Bias'] \n",
    "# Drop the specified columns\n",
    "FullTextSD_df = FullTextSD_df.drop(columns=columns_to_remove)\n",
    "\n",
    "print(f\"Number of entries with extracted text: {FullTextSD_df['Full_Text'].count()}\")\n",
    "#FullTextSD_df.head()"
   ]
  },
  {
   "cell_type": "markdown",
   "id": "c5802ac7",
   "metadata": {},
   "source": [
    "# Merge"
   ]
  },
  {
   "cell_type": "code",
   "execution_count": 15,
   "id": "d4fa9f67",
   "metadata": {
    "scrolled": false
   },
   "outputs": [
    {
     "name": "stdout",
     "output_type": "stream",
     "text": [
      "44\n",
      "Number of entries with extracted text: 96\n"
     ]
    },
    {
     "data": {
      "text/html": [
       "<div>\n",
       "<style scoped>\n",
       "    .dataframe tbody tr th:only-of-type {\n",
       "        vertical-align: middle;\n",
       "    }\n",
       "\n",
       "    .dataframe tbody tr th {\n",
       "        vertical-align: top;\n",
       "    }\n",
       "\n",
       "    .dataframe thead th {\n",
       "        text-align: right;\n",
       "    }\n",
       "</style>\n",
       "<table border=\"1\" class=\"dataframe\">\n",
       "  <thead>\n",
       "    <tr style=\"text-align: right;\">\n",
       "      <th></th>\n",
       "      <th>Title</th>\n",
       "      <th>Authors</th>\n",
       "      <th>Year</th>\n",
       "      <th>Cited By</th>\n",
       "      <th>Detected_Dataset</th>\n",
       "      <th>Detected_Topic</th>\n",
       "      <th>Abstract</th>\n",
       "      <th>Journal</th>\n",
       "      <th>URL</th>\n",
       "      <th>Full_Text</th>\n",
       "    </tr>\n",
       "  </thead>\n",
       "  <tbody>\n",
       "    <tr>\n",
       "      <th>0</th>\n",
       "      <td>10 Automated Face Analysis for Affective Compu...</td>\n",
       "      <td>['JF Cohn', 'F De la Torre']</td>\n",
       "      <td>2015</td>\n",
       "      <td>170</td>\n",
       "      <td>Affective Faces Database</td>\n",
       "      <td>classifier</td>\n",
       "      <td>Differences in manual coding between databases...</td>\n",
       "      <td>The Oxford handbook of affective …</td>\n",
       "      <td>https://academic.oup.com/edited-volume/28057/c...</td>\n",
       "      <td>NaN</td>\n",
       "    </tr>\n",
       "    <tr>\n",
       "      <th>1</th>\n",
       "      <td>3D facial expression recognition based on auto...</td>\n",
       "      <td>['H Tang', 'TS Huang']</td>\n",
       "      <td>2008</td>\n",
       "      <td>205</td>\n",
       "      <td>Binghamton University 3D Facial Expression</td>\n",
       "      <td>classification, classifier, facial expression ...</td>\n",
       "      <td>facial expression recognition from 3D facial s...</td>\n",
       "      <td>… on computer vision and pattern recognition …</td>\n",
       "      <td>https://ieeexplore.ieee.org/document/4563052</td>\n",
       "      <td>3D Facial Expression Recognition Based on Auto...</td>\n",
       "    </tr>\n",
       "    <tr>\n",
       "      <th>2</th>\n",
       "      <td>3D facial expression recognition based on prim...</td>\n",
       "      <td>['J Wang', 'L Yin', 'X Wei', 'Y Sun']</td>\n",
       "      <td>2006</td>\n",
       "      <td>440</td>\n",
       "      <td>Binghamton University 3D Facial Expression</td>\n",
       "      <td>facial expression recognition</td>\n",
       "      <td>expressions using 3D facial expression range d...</td>\n",
       "      <td>… Vision and Pattern Recognition  …</td>\n",
       "      <td>https://ieeexplore.ieee.org/document/1640921</td>\n",
       "      <td>3D Facial Expression Recognition Based on Prim...</td>\n",
       "    </tr>\n",
       "    <tr>\n",
       "      <th>3</th>\n",
       "      <td>3D facial expression recognition based on prop...</td>\n",
       "      <td>['H Tang', 'TS Huang']</td>\n",
       "      <td>2008</td>\n",
       "      <td>153</td>\n",
       "      <td>Binghamton University 3D Facial Expression</td>\n",
       "      <td>classification, classifier, facial expression ...</td>\n",
       "      <td>Binghamton University have recently constructe...</td>\n",
       "      <td>… on Automatic Face &amp; Gesture Recognition</td>\n",
       "      <td>https://ieeexplore.ieee.org/document/4813304</td>\n",
       "      <td>3DFacial Expr ession Recognition Based onPrope...</td>\n",
       "    </tr>\n",
       "    <tr>\n",
       "      <th>4</th>\n",
       "      <td>3D facial expression recognition using SIFT de...</td>\n",
       "      <td>['S Berretti', 'B Ben Amor', 'M Daoudi', 'A De...</td>\n",
       "      <td>2011</td>\n",
       "      <td>184</td>\n",
       "      <td>Binghamton University 3D Facial Expression</td>\n",
       "      <td>classification, classifier, facial expression ...</td>\n",
       "      <td>at the Binghamton University (BU-3DFE database...</td>\n",
       "      <td>The Visual Computer</td>\n",
       "      <td>https://www.researchgate.net/publication/22006...</td>\n",
       "      <td>NaN</td>\n",
       "    </tr>\n",
       "  </tbody>\n",
       "</table>\n",
       "</div>"
      ],
      "text/plain": [
       "                                               Title  \\\n",
       "0  10 Automated Face Analysis for Affective Compu...   \n",
       "1  3D facial expression recognition based on auto...   \n",
       "2  3D facial expression recognition based on prim...   \n",
       "3  3D facial expression recognition based on prop...   \n",
       "4  3D facial expression recognition using SIFT de...   \n",
       "\n",
       "                                             Authors  Year  Cited By  \\\n",
       "0                       ['JF Cohn', 'F De la Torre']  2015       170   \n",
       "1                             ['H Tang', 'TS Huang']  2008       205   \n",
       "2              ['J Wang', 'L Yin', 'X Wei', 'Y Sun']  2006       440   \n",
       "3                             ['H Tang', 'TS Huang']  2008       153   \n",
       "4  ['S Berretti', 'B Ben Amor', 'M Daoudi', 'A De...  2011       184   \n",
       "\n",
       "                             Detected_Dataset  \\\n",
       "0                    Affective Faces Database   \n",
       "1  Binghamton University 3D Facial Expression   \n",
       "2  Binghamton University 3D Facial Expression   \n",
       "3  Binghamton University 3D Facial Expression   \n",
       "4  Binghamton University 3D Facial Expression   \n",
       "\n",
       "                                      Detected_Topic  \\\n",
       "0                                         classifier   \n",
       "1  classification, classifier, facial expression ...   \n",
       "2                      facial expression recognition   \n",
       "3  classification, classifier, facial expression ...   \n",
       "4  classification, classifier, facial expression ...   \n",
       "\n",
       "                                            Abstract  \\\n",
       "0  Differences in manual coding between databases...   \n",
       "1  facial expression recognition from 3D facial s...   \n",
       "2  expressions using 3D facial expression range d...   \n",
       "3  Binghamton University have recently constructe...   \n",
       "4  at the Binghamton University (BU-3DFE database...   \n",
       "\n",
       "                                          Journal  \\\n",
       "0              The Oxford handbook of affective …   \n",
       "1  … on computer vision and pattern recognition …   \n",
       "2             … Vision and Pattern Recognition  …   \n",
       "3       … on Automatic Face & Gesture Recognition   \n",
       "4                             The Visual Computer   \n",
       "\n",
       "                                                 URL  \\\n",
       "0  https://academic.oup.com/edited-volume/28057/c...   \n",
       "1       https://ieeexplore.ieee.org/document/4563052   \n",
       "2       https://ieeexplore.ieee.org/document/1640921   \n",
       "3       https://ieeexplore.ieee.org/document/4813304   \n",
       "4  https://www.researchgate.net/publication/22006...   \n",
       "\n",
       "                                           Full_Text  \n",
       "0                                                NaN  \n",
       "1  3D Facial Expression Recognition Based on Auto...  \n",
       "2  3D Facial Expression Recognition Based on Prim...  \n",
       "3  3DFacial Expr ession Recognition Based onPrope...  \n",
       "4                                                NaN  "
      ]
     },
     "execution_count": 15,
     "metadata": {},
     "output_type": "execute_result"
    }
   ],
   "source": [
    "# Assuming FullTextSD_df and FullTextArx_df are your two dataframes\n",
    "\n",
    "# Fill NaNs in FullTextSD_df's 'Full_Text' column with corresponding values from FullTextArx_df's 'Full_Text' column\n",
    "FullTextCombined_df = FullTextSD_df.copy()\n",
    "FullTextCombined_df['Full_Text'] = FullTextCombined_df['Full_Text'].combine_first(FullTextArx_df['Full_Text'])\n",
    "print(FullTextCombined_df['Full_Text'].count())\n",
    "\n",
    "# Adjusting the merge to use 'URL' as the matching column instead of 'links'\n",
    "FullTextCombined_df = FullTextCombined_df.merge(\n",
    "    FullTextIEEE_df[['links', 'texts']].rename(columns={'links': 'URL'}),\n",
    "    on='URL',\n",
    "    how='left'\n",
    ")\n",
    "FullTextCombined_df.head()\n",
    "# Use the 'texts_IEEE' column to fill NaN values in 'Full_Text' column of FullTextCombined_df\n",
    "FullTextCombined_df['Full_Text'] = FullTextCombined_df['Full_Text'].combine_first(FullTextCombined_df['texts'])\n",
    "\n",
    "# Drop the helper 'texts_IEEE' column\n",
    "FullTextCombined_df = FullTextCombined_df.drop(columns=['texts'])\n",
    "\n",
    "print(f\"Number of entries with extracted text: {FullTextCombined_df['Full_Text'].count()}\")\n",
    "FullTextCombined_df = FullTextCombined_df.drop(['ID'], axis=1)\n",
    "FullTextCombined_df.head()"
   ]
  },
  {
   "cell_type": "code",
   "execution_count": 16,
   "id": "3771f4a6",
   "metadata": {},
   "outputs": [
    {
     "data": {
      "text/plain": [
       "Index(['Title', 'Authors', 'Year', 'Cited By', 'Detected_Dataset',\n",
       "       'Detected_Topic', 'Abstract', 'Journal', 'URL', 'Full_Text'],\n",
       "      dtype='object')"
      ]
     },
     "execution_count": 16,
     "metadata": {},
     "output_type": "execute_result"
    }
   ],
   "source": [
    "FullTextCombined_df.columns"
   ]
  },
  {
   "cell_type": "code",
   "execution_count": 17,
   "id": "5f80d316",
   "metadata": {},
   "outputs": [],
   "source": [
    "FullTextCombined_df.to_csv('FullText_ALL.csv')"
   ]
  },
  {
   "cell_type": "code",
   "execution_count": null,
   "id": "3042956b",
   "metadata": {},
   "outputs": [],
   "source": []
  },
  {
   "cell_type": "code",
   "execution_count": null,
   "id": "e7489549",
   "metadata": {},
   "outputs": [],
   "source": []
  },
  {
   "cell_type": "code",
   "execution_count": null,
   "id": "24e8db7c",
   "metadata": {},
   "outputs": [],
   "source": []
  },
  {
   "cell_type": "code",
   "execution_count": null,
   "id": "56ead179",
   "metadata": {},
   "outputs": [],
   "source": []
  },
  {
   "cell_type": "code",
   "execution_count": null,
   "id": "19073d66",
   "metadata": {},
   "outputs": [],
   "source": []
  },
  {
   "cell_type": "code",
   "execution_count": null,
   "id": "bc15c6d6",
   "metadata": {},
   "outputs": [],
   "source": []
  }
 ],
 "metadata": {
  "kernelspec": {
   "display_name": "base",
   "language": "python",
   "name": "python3"
  },
  "language_info": {
   "codemirror_mode": {
    "name": "ipython",
    "version": 3
   },
   "file_extension": ".py",
   "mimetype": "text/x-python",
   "name": "python",
   "nbconvert_exporter": "python",
   "pygments_lexer": "ipython3",
   "version": "3.12.7"
  }
 },
 "nbformat": 4,
 "nbformat_minor": 5
}
