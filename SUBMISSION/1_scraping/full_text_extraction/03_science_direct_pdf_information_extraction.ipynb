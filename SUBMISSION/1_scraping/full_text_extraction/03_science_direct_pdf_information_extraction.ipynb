{
 "cells": [
  {
   "cell_type": "markdown",
   "id": "fceb618e",
   "metadata": {},
   "source": [
    "### Science Direct PDF information extraction\n",
    "\n",
    "This notebook is used to extract information from PDF files generated from the HTML files downloaded from ScienceDirect."
   ]
  },
  {
   "cell_type": "code",
   "execution_count": 1,
   "id": "e47607c9",
   "metadata": {},
   "outputs": [],
   "source": [
    "DEMO = True\n",
    "MAX_PAGES = 3"
   ]
  },
  {
   "cell_type": "code",
   "execution_count": 3,
   "id": "a2515a8a",
   "metadata": {},
   "outputs": [],
   "source": [
    "import os\n",
    "import pandas as pd\n",
    "from difflib import SequenceMatcher\n",
    "\n",
    "# this is own stuff\n",
    "import science_direct_functions\n",
    "\n",
    "# ----------------------------------------------# \n",
    "# only for development\n",
    "import importlib as imp\n",
    "imp.reload(science_direct_functions)\n",
    "from science_direct_functions import *\n",
    "# ----------------------------------------------# "
   ]
  },
  {
   "cell_type": "code",
   "execution_count": 11,
   "id": "52415c25",
   "metadata": {},
   "outputs": [
    {
     "data": {
      "text/html": [
       "<div>\n",
       "<style scoped>\n",
       "    .dataframe tbody tr th:only-of-type {\n",
       "        vertical-align: middle;\n",
       "    }\n",
       "\n",
       "    .dataframe tbody tr th {\n",
       "        vertical-align: top;\n",
       "    }\n",
       "\n",
       "    .dataframe thead th {\n",
       "        text-align: right;\n",
       "    }\n",
       "</style>\n",
       "<table border=\"1\" class=\"dataframe\">\n",
       "  <thead>\n",
       "    <tr style=\"text-align: right;\">\n",
       "      <th></th>\n",
       "      <th>ID</th>\n",
       "      <th>Title</th>\n",
       "      <th>Authors</th>\n",
       "      <th>Year</th>\n",
       "      <th>Cited By</th>\n",
       "      <th>Detected_Dataset</th>\n",
       "      <th>Detected_Topic</th>\n",
       "      <th>Abstract</th>\n",
       "      <th>DOI</th>\n",
       "      <th>Journal</th>\n",
       "      <th>...</th>\n",
       "      <th>Mentions_Statistical_significance</th>\n",
       "      <th>Mentions_P-value</th>\n",
       "      <th>Mentions_T-test</th>\n",
       "      <th>Mentions_Anova</th>\n",
       "      <th>Mentions_Correlation</th>\n",
       "      <th>Mentions_Regression</th>\n",
       "      <th>Mentions_Baseline_comparison</th>\n",
       "      <th>Mentions_Mae</th>\n",
       "      <th>Mentions_Rmse</th>\n",
       "      <th>Mentions_Bias</th>\n",
       "    </tr>\n",
       "  </thead>\n",
       "  <tbody>\n",
       "    <tr>\n",
       "      <th>0</th>\n",
       "      <td>0</td>\n",
       "      <td>10 Automated Face Analysis for Affective Compu...</td>\n",
       "      <td>['JF Cohn', 'F De la Torre']</td>\n",
       "      <td>2015</td>\n",
       "      <td>170</td>\n",
       "      <td>Affective Faces Database</td>\n",
       "      <td>classifier</td>\n",
       "      <td>Differences in manual coding between databases...</td>\n",
       "      <td>No DOI</td>\n",
       "      <td>The Oxford handbook of affective …</td>\n",
       "      <td>...</td>\n",
       "      <td>False</td>\n",
       "      <td>False</td>\n",
       "      <td>False</td>\n",
       "      <td>False</td>\n",
       "      <td>False</td>\n",
       "      <td>False</td>\n",
       "      <td>False</td>\n",
       "      <td>False</td>\n",
       "      <td>False</td>\n",
       "      <td>False</td>\n",
       "    </tr>\n",
       "    <tr>\n",
       "      <th>1</th>\n",
       "      <td>1</td>\n",
       "      <td>3D facial expression recognition based on auto...</td>\n",
       "      <td>['H Tang', 'TS Huang']</td>\n",
       "      <td>2008</td>\n",
       "      <td>205</td>\n",
       "      <td>Binghamton University 3D Facial Expression</td>\n",
       "      <td>classification, classifier, facial expression ...</td>\n",
       "      <td>facial expression recognition from 3D facial s...</td>\n",
       "      <td>No DOI</td>\n",
       "      <td>… on computer vision and pattern recognition …</td>\n",
       "      <td>...</td>\n",
       "      <td>False</td>\n",
       "      <td>False</td>\n",
       "      <td>False</td>\n",
       "      <td>False</td>\n",
       "      <td>False</td>\n",
       "      <td>False</td>\n",
       "      <td>False</td>\n",
       "      <td>False</td>\n",
       "      <td>False</td>\n",
       "      <td>False</td>\n",
       "    </tr>\n",
       "    <tr>\n",
       "      <th>2</th>\n",
       "      <td>2</td>\n",
       "      <td>3D facial expression recognition based on prim...</td>\n",
       "      <td>['J Wang', 'L Yin', 'X Wei', 'Y Sun']</td>\n",
       "      <td>2006</td>\n",
       "      <td>440</td>\n",
       "      <td>Binghamton University 3D Facial Expression</td>\n",
       "      <td>facial expression recognition</td>\n",
       "      <td>expressions using 3D facial expression range d...</td>\n",
       "      <td>No DOI</td>\n",
       "      <td>… Vision and Pattern Recognition  …</td>\n",
       "      <td>...</td>\n",
       "      <td>False</td>\n",
       "      <td>False</td>\n",
       "      <td>False</td>\n",
       "      <td>False</td>\n",
       "      <td>False</td>\n",
       "      <td>False</td>\n",
       "      <td>False</td>\n",
       "      <td>False</td>\n",
       "      <td>False</td>\n",
       "      <td>False</td>\n",
       "    </tr>\n",
       "  </tbody>\n",
       "</table>\n",
       "<p>3 rows × 38 columns</p>\n",
       "</div>"
      ],
      "text/plain": [
       "   ID                                              Title  \\\n",
       "0   0  10 Automated Face Analysis for Affective Compu...   \n",
       "1   1  3D facial expression recognition based on auto...   \n",
       "2   2  3D facial expression recognition based on prim...   \n",
       "\n",
       "                                 Authors  Year  Cited By  \\\n",
       "0           ['JF Cohn', 'F De la Torre']  2015       170   \n",
       "1                 ['H Tang', 'TS Huang']  2008       205   \n",
       "2  ['J Wang', 'L Yin', 'X Wei', 'Y Sun']  2006       440   \n",
       "\n",
       "                             Detected_Dataset  \\\n",
       "0                    Affective Faces Database   \n",
       "1  Binghamton University 3D Facial Expression   \n",
       "2  Binghamton University 3D Facial Expression   \n",
       "\n",
       "                                      Detected_Topic  \\\n",
       "0                                         classifier   \n",
       "1  classification, classifier, facial expression ...   \n",
       "2                      facial expression recognition   \n",
       "\n",
       "                                            Abstract     DOI  \\\n",
       "0  Differences in manual coding between databases...  No DOI   \n",
       "1  facial expression recognition from 3D facial s...  No DOI   \n",
       "2  expressions using 3D facial expression range d...  No DOI   \n",
       "\n",
       "                                          Journal  ...  \\\n",
       "0              The Oxford handbook of affective …  ...   \n",
       "1  … on computer vision and pattern recognition …  ...   \n",
       "2             … Vision and Pattern Recognition  …  ...   \n",
       "\n",
       "  Mentions_Statistical_significance  Mentions_P-value  Mentions_T-test  \\\n",
       "0                             False             False            False   \n",
       "1                             False             False            False   \n",
       "2                             False             False            False   \n",
       "\n",
       "   Mentions_Anova  Mentions_Correlation  Mentions_Regression  \\\n",
       "0           False                 False                False   \n",
       "1           False                 False                False   \n",
       "2           False                 False                False   \n",
       "\n",
       "   Mentions_Baseline_comparison  Mentions_Mae  Mentions_Rmse  Mentions_Bias  \n",
       "0                         False         False          False          False  \n",
       "1                         False         False          False          False  \n",
       "2                         False         False          False          False  \n",
       "\n",
       "[3 rows x 38 columns]"
      ]
     },
     "metadata": {},
     "output_type": "display_data"
    }
   ],
   "source": [
    "file_path = '../Scrapes_ALL.csv'\n",
    "\n",
    "scienece_direct_df = pd.read_csv(file_path)\n",
    "#scienece_direct_df.drop('Unnamed: 0', axis=1, inplace=True)\n",
    "scienece_direct_df.rename(columns = {'Unnamed: 0':'ID'}, inplace = True)\n",
    "scienece_direct_df = scienece_direct_df.reset_index(drop=True)\n",
    "\n",
    "\n",
    "# Directory where the PDFs are stored\n",
    "pdf_dir = '../ScienceDirectPDF'\n",
    "\n",
    "display(scienece_direct_df.head(3))"
   ]
  },
  {
   "cell_type": "code",
   "execution_count": 13,
   "id": "4b74433d",
   "metadata": {},
   "outputs": [
    {
     "name": "stdout",
     "output_type": "stream",
     "text": [
      "e:\\ITU-BOOK\\Data in Wild\\Project\\DataInWild\\SUBMISSION\\1_scraping\\x_research_papers_save\\1_raw_files\n"
     ]
    }
   ],
   "source": [
    "# print the abs path\n",
    "pdf_dir = \"1_raw_files\"\n",
    "print(os.path.abspath(pdf_dir))"
   ]
  },
  {
   "cell_type": "code",
   "execution_count": null,
   "id": "f8e97364",
   "metadata": {},
   "outputs": [
    {
     "name": "stdout",
     "output_type": "stream",
     "text": [
      "Processing file: science_direct_102.pdf\n",
      "Processing file: science_direct_135.pdf\n",
      "Processing file: science_direct_166.pdf\n",
      "Processing file: science_direct_173.pdf\n",
      "Processing file: science_direct_20.pdf\n",
      "Processing file: science_direct_234.pdf\n",
      "Processing file: science_direct_237.pdf\n",
      "Processing file: science_direct_40.pdf\n"
     ]
    }
   ],
   "source": [
    "full_texts = []\n",
    "\n",
    "c = 0\n",
    "for pdf_file in os.listdir(os.path.abspath(pdf_dir)):\n",
    "    if DEMO and c > MAX_PAGES:\n",
    "        break\n",
    "    if pdf_file.endswith(\".pdf\"):\n",
    "        print(f\"Processing file: {pdf_file}\")\n",
    "        ID = extract_numbers(pdf_file)\n",
    "        pdf_path = os.path.join(pdf_dir, pdf_file)\n",
    "        pdf_title = extract_title_from_pdf(pdf_path)\n",
    "        full_text = extract_text_from_pdf(pdf_path)\n",
    "        full_text = delete_parts_from_text(full_text, DELETE_JAVASCRIPT_TEXT)\n",
    "        full_text = delete_after_references(full_text)\n",
    "        full_text = remove_empty_lines(full_text)\n",
    "        # print(f\"Full text snippet: {full_text[:100]}\")\n",
    "        scienece_direct_df.loc[scienece_direct_df['ID'] == ID, 'Full_Text'] = full_text\n",
    "    else:\n",
    "        None\n",
    "    c += 1"
   ]
  },
  {
   "cell_type": "code",
   "execution_count": 19,
   "id": "3ce2a6da",
   "metadata": {},
   "outputs": [
    {
     "name": "stdout",
     "output_type": "stream",
     "text": [
      "e:\\ITU-BOOK\\Data in Wild\\Project\\DataInWild\\SUBMISSION\\1_scraping\\xx_results\\02_science_direcT_full_text.csv\n"
     ]
    }
   ],
   "source": [
    "# print the abs path\n",
    "save_dir = \"../results/science_direct_full_texts.csv\"\n",
    "# save the extracted text\n",
    "scienece_direct_df.to_csv(os.path.abspath(save_dir))"
   ]
  }
 ],
 "metadata": {
  "kernelspec": {
   "display_name": "Python 3",
   "language": "python",
   "name": "python3"
  },
  "language_info": {
   "codemirror_mode": {
    "name": "ipython",
    "version": 3
   },
   "file_extension": ".py",
   "mimetype": "text/x-python",
   "name": "python",
   "nbconvert_exporter": "python",
   "pygments_lexer": "ipython3",
   "version": "3.12.1"
  }
 },
 "nbformat": 4,
 "nbformat_minor": 5
}
